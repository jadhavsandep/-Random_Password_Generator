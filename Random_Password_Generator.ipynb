{
 "cells": [
  {
   "cell_type": "markdown",
   "id": "0f58dc47-0e1b-4b2d-ac6c-c8148660580a",
   "metadata": {},
   "source": [
    "# Import the Random Library"
   ]
  },
  {
   "cell_type": "code",
   "execution_count": 2,
   "id": "be035c77-eab9-4e25-8986-8e77fbe1ee60",
   "metadata": {},
   "outputs": [],
   "source": [
    "import random"
   ]
  },
  {
   "cell_type": "markdown",
   "id": "6ec24617-432a-4af5-bb48-1e2b0be26a68",
   "metadata": {},
   "source": [
    "# Define the Characters"
   ]
  },
  {
   "cell_type": "code",
   "execution_count": 5,
   "id": "f657b45f-f084-4945-9d5a-e787b3aa6ab3",
   "metadata": {},
   "outputs": [],
   "source": [
    "letters = \"ABCDEFGHIJKLMNOPQRSTUVWXYZabcdefghijklmnopqrstuvwxyz\"\n",
    "numbers = \"0123456789\"\n",
    "symbols = \"@#$%&*\"\n",
    "all_characters = letters + numbers + symbols\n"
   ]
  },
  {
   "cell_type": "markdown",
   "id": "65a66a88-6984-4984-9823-450b64effd81",
   "metadata": {},
   "source": [
    " # Create the Function to Generate the Password"
   ]
  },
  {
   "cell_type": "code",
   "execution_count": 8,
   "id": "12e43d63-6f58-487e-89fc-fe011724992e",
   "metadata": {},
   "outputs": [],
   "source": [
    "def make_password(length):\n",
    "    # Pick random characters to make the password\n",
    "    password = \"\".join(random.choices(all_characters, k=length))\n",
    "    return password\n"
   ]
  },
  {
   "cell_type": "markdown",
   "id": "310e1335-157d-46c0-bfea-8914443d9fc8",
   "metadata": {},
   "source": [
    "# Ask the User for Password Length and Show the Password"
   ]
  },
  {
   "cell_type": "code",
   "execution_count": 11,
   "id": "fdc01e87-597a-4b3f-9ccf-a47160b8bfc1",
   "metadata": {},
   "outputs": [
    {
     "name": "stdin",
     "output_type": "stream",
     "text": [
      "How long should the password be?  7\n"
     ]
    },
    {
     "name": "stdout",
     "output_type": "stream",
     "text": [
      "Your password is: 7tVaE0O\n"
     ]
    }
   ],
   "source": [
    "# Ask the user how long the password should be\n",
    "length = int(input(\"How long should the password be? \"))\n",
    "\n",
    "# Generate and display the password\n",
    "print(\"Your password is:\", make_password(length))\n"
   ]
  },
  {
   "cell_type": "code",
   "execution_count": null,
   "id": "8070437d-fbf1-4c0f-b8ec-794806640415",
   "metadata": {},
   "outputs": [],
   "source": []
  }
 ],
 "metadata": {
  "kernelspec": {
   "display_name": "Python 3 (ipykernel)",
   "language": "python",
   "name": "python3"
  },
  "language_info": {
   "codemirror_mode": {
    "name": "ipython",
    "version": 3
   },
   "file_extension": ".py",
   "mimetype": "text/x-python",
   "name": "python",
   "nbconvert_exporter": "python",
   "pygments_lexer": "ipython3",
   "version": "3.12.4"
  }
 },
 "nbformat": 4,
 "nbformat_minor": 5
}
